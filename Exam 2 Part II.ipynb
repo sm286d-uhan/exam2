{
 "cells": [
  {
   "cell_type": "markdown",
   "metadata": {},
   "source": [
    "<h4 class='prehead'>SM286D &middot; Introduction to Applied Mathematics with Python &middot; Spring 2020 &middot; Uhan</h4>\n",
    "\n",
    "<h1 class='lesson_title'>Exam 2 &mdash; 7 April 2020 &mdash; Part II (Open-Book)</h1>"
   ]
  },
  {
   "cell_type": "markdown",
   "metadata": {},
   "source": [
    "## Instructions"
   ]
  },
  {
   "cell_type": "markdown",
   "metadata": {},
   "source": [
    "This exam has 2 parts: Part I and Part II (this part). You should have submitted Part I before starting this part.\n",
    "\n",
    "You have 2 hours to complete both parts of this exam. __This exam is due on Thursday 9 April at 23:59 (your local time zone).__\n",
    "\n",
    "For this part of the exam, you may use your own course materials (e.g. notes, textbook), as well as any materials directly linked from the [class website](https://www.usna.edu/Users/math/uhan/sm286d/). __No collaboration allowed.__\n",
    "\n",
    "There are 5 problems in this part, worth a total of 70 points. The exam (both parts) is worth a total of 100 points.\n",
    "\n",
    "Save your work frequently! When you are finished, submit this file using the SM286D Assignment Submission Form linked on the [class website](https://www.usna.edu/Users/math/uhan/sm286d/)."
   ]
  },
  {
   "cell_type": "markdown",
   "metadata": {},
   "source": [
    "---"
   ]
  },
  {
   "cell_type": "markdown",
   "metadata": {},
   "source": [
    "## Your signature required here"
   ]
  },
  {
   "cell_type": "markdown",
   "metadata": {},
   "source": [
    "By typing your name in the box below, you pledge on your honor that you have used only the allotted time, that you have not used any unauthorized materials, and that you have not given or received any unauthorized assistance."
   ]
  },
  {
   "cell_type": "markdown",
   "metadata": {},
   "source": [
    "<span style=\"color:red\"><strong>WRITE YOUR NAME IN THIS BOX. DOUBLE-CLICK TO EDIT.</strong></span>"
   ]
  },
  {
   "cell_type": "markdown",
   "metadata": {},
   "source": [
    "---"
   ]
  },
  {
   "cell_type": "markdown",
   "metadata": {},
   "source": [
    "## Problem 1 (20 points)"
   ]
  },
  {
   "cell_type": "markdown",
   "metadata": {},
   "source": [
    "Take a look at the diagram below to refresh your memory about right circular cylinders."
   ]
  },
  {
   "cell_type": "markdown",
   "metadata": {},
   "source": [
    "<img src=\"img/right-circular-cylinder-base-lateral-area.jpg\" alt=\"Drawing\" width=\"400\"/>\n",
    "<br>\n",
    "<center> Visual depiction of a right circular cylinder (<a href=\"https://www.mathalino.com/reviewer/solid-mensuration/right-circular-cylinder\">source</a>). </center>"
   ]
  },
  {
   "cell_type": "markdown",
   "metadata": {},
   "source": [
    " Run the code cell below to import `numpy` as `np`, so it can be used later in this problem."
   ]
  },
  {
   "cell_type": "code",
   "execution_count": 1,
   "metadata": {},
   "outputs": [],
   "source": [
    "import numpy as np"
   ]
  },
  {
   "cell_type": "markdown",
   "metadata": {},
   "source": [
    "__(a) 2 points.__ The `RightCirCyl` class is defined below. When instantiating `RightCirCyl`, it takes one numeric value as input, which is then stored as an attribute `r`, representing the radius of a right circular cylinder.\n",
    "\n",
    "Modify the code below so that instantiating `RightCirCyl` requires two numeric values as input. The second input value should be used to define a new attribute `h`, representing the height of a right circular cylinder."
   ]
  },
  {
   "cell_type": "code",
   "execution_count": 2,
   "metadata": {},
   "outputs": [],
   "source": [
    "# Modify the code below\n",
    "class RightCirCyl:    \n",
    "    def __init__(self, r):\n",
    "        \"\"\" Initialize attributes of a right circular cylinder \"\"\"\n",
    "        self.r = r  # Attribute for radius r"
   ]
  },
  {
   "cell_type": "code",
   "execution_count": 1,
   "metadata": {},
   "outputs": [],
   "source": [
    "# SOLUTION\n",
    "# Modify the code below\n",
    "class RightCirCyl:\n",
    "    def __init__(self, r, h):\n",
    "        \"\"\" Initialize attributes of a right circular cylinder \"\"\"\n",
    "        self.r = r  # Attribute for radius r\n",
    "        self.h = h  # Attribute for height h"
   ]
  },
  {
   "cell_type": "markdown",
   "metadata": {},
   "source": [
    "__(b) 3 points.__ Replace ONLY the `...` in the code cell below to create an instance of the `RightCirCyl` class with radius 4 and height 10."
   ]
  },
  {
   "cell_type": "code",
   "execution_count": null,
   "metadata": {},
   "outputs": [],
   "source": [
    "my_cyl = ..."
   ]
  },
  {
   "cell_type": "code",
   "execution_count": 3,
   "metadata": {},
   "outputs": [],
   "source": [
    "# SOLUTION\n",
    "my_cyl = RightCirCyl(4, 10)"
   ]
  },
  {
   "cell_type": "markdown",
   "metadata": {},
   "source": [
    "__(c) 3 points.__ Copy and paste your definition of the `RightCirCyl` class from part (a) in the code cell below.\n",
    "\n",
    "\n",
    "Add a method called `find_volume` to the `RightCirCyl` class that will:\n",
    "\n",
    "1. Calculate the volume, using the `r` and `h` attributes defined when the class is instantiated, and \n",
    "2. **Store** the value in a new attribute called `volume`.\n",
    "\n",
    "_Hints._\n",
    "\n",
    "- See the image above for the formula for the volume of a right circular cylinder.\n",
    "- You can use `np.pi` to represent the numerical value of $\\pi$ in your volume formula."
   ]
  },
  {
   "cell_type": "code",
   "execution_count": null,
   "metadata": {},
   "outputs": [],
   "source": []
  },
  {
   "cell_type": "code",
   "execution_count": 6,
   "metadata": {},
   "outputs": [],
   "source": [
    "# SOLUTION\n",
    "class RightCirCyl:\n",
    "    def __init__(self, r, h):\n",
    "        \"\"\" Initialize attributes of a right circular cylinder \"\"\"\n",
    "        self.r = r  # Attribute for radius r\n",
    "        self.h = h  # Attribute for height h\n",
    "    \n",
    "    def find_volume(self):\n",
    "        volume = np.pi * (self.r ** 2) * self.h\n",
    "        self.volume = volume  # Attribute for volume"
   ]
  },
  {
   "cell_type": "markdown",
   "metadata": {},
   "source": [
    "__(d) 3 points.__ Since you modified the `RightCirCyl` class in part (c), you will need to create the instance `my_cyl` **again**.  To do this, copy and paste your code from part (b) in the code cell below.\n",
    "\n",
    "After creating the instance `my_cyl` again, write code to call the `find_volume` method for the instance `my_cyl` of the `RightCirCyl` class. \n",
    "\n",
    "If you weren't able to answer part (c) correctly, write your answer to this question as if your code for part (c) did work properly."
   ]
  },
  {
   "cell_type": "code",
   "execution_count": null,
   "metadata": {},
   "outputs": [],
   "source": []
  },
  {
   "cell_type": "code",
   "execution_count": 7,
   "metadata": {},
   "outputs": [],
   "source": [
    "# SOLUTION\n",
    "my_cyl = RightCirCyl(4, 10)\n",
    "my_cyl.find_volume()"
   ]
  },
  {
   "cell_type": "markdown",
   "metadata": {},
   "source": [
    "__(e) 3 points.__ Using f-strings, print a statement like this:\n",
    "\n",
    "```\n",
    "The volume of a right circular cylinder with r=4 and h=10 is 502.65.\n",
    "```\n",
    "\n",
    "Your code **must** use `my_cyl` and the attributes `r`, `h`, and `volume` (i.e. not hard-coded numeric values) for full credit. The volume value **must** be printed with 2 decimal places of precision to receive full credit."
   ]
  },
  {
   "cell_type": "code",
   "execution_count": null,
   "metadata": {},
   "outputs": [],
   "source": []
  },
  {
   "cell_type": "code",
   "execution_count": 8,
   "metadata": {},
   "outputs": [
    {
     "name": "stdout",
     "output_type": "stream",
     "text": [
      "The volume of a right circular cylinder with r=4 and h=10 is 502.65.\n"
     ]
    }
   ],
   "source": [
    "# SOLUTION\n",
    "print(f\"The volume of a right circular cylinder with r={my_cyl.r} and h={my_cyl.h} is {my_cyl.volume:.2f}.\")"
   ]
  },
  {
   "cell_type": "markdown",
   "metadata": {},
   "source": [
    "__(f) 3 points.__ The lists `r_list` and `h_list` below contain the radii and heights for three different right circular cylinders.  The 0th element of each list corresponds to one cylinder, the 1st element of each list corresponds to a second cylinder, etc.  \n",
    "\n",
    "Use a **`for` loop** to instantiate three different instances of `RightCirCyl` with the radii and heights given in `r_list` and `h_list`. Store these instances in a list called `my_rightcircyls`.  \n",
    "\n",
    "You will receive partial credit if you can't figure out how to do this with a `for` loop, and instead create the three class instances manually and store them in a list called `my_rightcircyls`."
   ]
  },
  {
   "cell_type": "code",
   "execution_count": null,
   "metadata": {},
   "outputs": [],
   "source": [
    "# List of right circular cylinder radii and heights\n",
    "r_list = [2, 7, 9]\n",
    "h_list = [8, 15, 22]\n",
    "\n",
    "# Write your code below"
   ]
  },
  {
   "cell_type": "code",
   "execution_count": 9,
   "metadata": {},
   "outputs": [],
   "source": [
    "# SOLUTION\n",
    "# List of right circular cylinder radii and heights\n",
    "r_list = [2, 7, 9]\n",
    "h_list = [8, 15, 22]\n",
    "\n",
    "# Write your code below\n",
    "# Create list of right circular cylinders\n",
    "my_rightcircyls = []\n",
    "for i in range(len(r_list)):\n",
    "    my_rightcircyls.append(RightCirCyl(r_list[i], h_list[i]))"
   ]
  },
  {
   "cell_type": "markdown",
   "metadata": {},
   "source": [
    "__(g) 3 points.__ Use a **`for` loop** and appropriate f-strings to print a statement for each cylinder in the list `my_rightcircyls` like you did in part (e).  Your output should look like this:\n",
    "\n",
    "```\n",
    "The volume of a right circular cylinder with r=2 and h=8 is 100.53.\n",
    "The volume of a right circular cylinder with r=7 and h=15 is 2309.07.\n",
    "The volume of a right circular cylinder with r=9 and h=22 is 5598.32.\n",
    "```\n",
    "\n",
    "To receive full credit you **must** use a `for` loop and f-strings, and print the volume values with 2 decimal places of precision. \n",
    "\n",
    "Remember, you will have to call the `find_volume` method for each cylinder in the list before you can access the `volume` attribute for that cylinder.  Do this as part of your `for` loop.\n",
    "\n",
    "You cannot simply print three statements with the numbers hard-coded in them for full credit."
   ]
  },
  {
   "cell_type": "code",
   "execution_count": null,
   "metadata": {},
   "outputs": [],
   "source": []
  },
  {
   "cell_type": "code",
   "execution_count": 10,
   "metadata": {},
   "outputs": [
    {
     "name": "stdout",
     "output_type": "stream",
     "text": [
      "The volume of a right circular cylinder with r=2 and h=8 is 100.53.\n",
      "The volume of a right circular cylinder with r=7 and h=15 is 2309.07.\n",
      "The volume of a right circular cylinder with r=9 and h=22 is 5598.32.\n"
     ]
    }
   ],
   "source": [
    "# SOLUTION\n",
    "for cylinder in my_rightcircyls:\n",
    "    cylinder.find_volume()\n",
    "    print(f\"The volume of a right circular cylinder with r={cylinder.r} and h={cylinder.h} is {cylinder.volume:.2f}.\")"
   ]
  },
  {
   "cell_type": "markdown",
   "metadata": {},
   "source": [
    "## Problem 2 (20 points)"
   ]
  },
  {
   "cell_type": "markdown",
   "metadata": {},
   "source": [
    "The ultimate goal of this question is to produce a side-by-side image containing the two communication flags for Oscar and Romeo, as shown below.\n",
    "\n",
    "<img src=\"img/OR_flags.png\" alt=\"Drawing\" style=\"width: 300px;\"/>\n",
    "\n",
    "To get you started, there is code in the cell below that produces 100 x 100 white squares, one for each of the two flags.\n",
    "\n",
    "Below are some additional instructions and hints to help you answer this question.\n",
    "\n",
    "- To make the Oscar flag, try using a nested `for` loop.\n",
    "- To get the yellow color shown in both of the flags, mix the colors red and green together at their full 8 bit intensity of 255.\n",
    "- The yellow stripes on the Romeo flag should be 7 units wide, and be centered at row 50 and column 50.\n",
    "- To turn off the plot axes, you can use code like this:\n",
    "     ``` python\n",
    "    plt.axis(\"off\")\n",
    "     ```\n",
    "- To avoid backend warnings when the flags are displayed, you can use code like this:\n",
    "    ``` python\n",
    "    fig.show(warn=False)\n",
    "    ```\n",
    "- You will need to use subplots in order to display the two flags side-by-side.\n",
    "- If you can't figure out how to display the flags side-by-side, simply display them separately for substantial partial credit."
   ]
  },
  {
   "cell_type": "code",
   "execution_count": null,
   "metadata": {},
   "outputs": [],
   "source": [
    "import numpy as np\n",
    "import matplotlib.pyplot as plt\n",
    "\n",
    "# Start with all white 100 x 100 square for Oscar\n",
    "oscar = 255 * np.ones((100, 100, 3), dtype='uint8')\n",
    "\n",
    "# Start with all white 100 x 100 square for Romeo\n",
    "romeo = 255 * np.ones((100, 100, 3), dtype='uint8')\n",
    "\n",
    "# Write your code below\n"
   ]
  },
  {
   "cell_type": "code",
   "execution_count": 11,
   "metadata": {},
   "outputs": [
    {
     "data": {
      "image/png": "[encoded data removed]",
      "text/plain": [
       "<Figure size 432x288 with 2 Axes>"
      ]
     },
     "metadata": {
      "needs_background": "light"
     },
     "output_type": "display_data"
    }
   ],
   "source": [
    "# SOLUTION\n",
    "import numpy as np\n",
    "import matplotlib.pyplot as plt\n",
    "\n",
    "# Start with all white 100 x 100 square for Oscar\n",
    "oscar = 255 * np.ones((100, 100, 3), dtype='uint8')\n",
    "\n",
    "# Start with all white 100 x 100 square for Romeo\n",
    "romeo = 255 * np.ones((100, 100, 3), dtype='uint8')\n",
    "\n",
    "# Write your code below\n",
    "# Oscar\n",
    "# Make entire square yellow\n",
    "oscar[0:100, 0:100, 2] = 0\n",
    "\n",
    "# Loop over every pixel\n",
    "# i = row, j = column\n",
    "for i in range(100):\n",
    "    for j in range(100):\n",
    "        if j > i:\n",
    "            oscar[i, j, 0] = 255\n",
    "            oscar[i, j, 1:3] = 0\n",
    "\n",
    "# Romeo\n",
    "# Make entire square red\n",
    "romeo[0:100, 0:100, 1:3] = 0\n",
    "\n",
    "# Make horizontal yellow stripe\n",
    "romeo[47:54, 0:100, 1] = 255\n",
    "\n",
    "# Make vertical yellow stripe\n",
    "romeo[0:100, 47:54, 1] = 255\n",
    "\n",
    "# Create figure\n",
    "fig = plt.figure()\n",
    "\n",
    "# Put Oscar flag in row 1 column 1 of 1 x 2 plot array\n",
    "ax = fig.add_subplot(1, 2, 1)\n",
    "    \n",
    "# Plot the Oscar flag\n",
    "plt.imshow(oscar)\n",
    "plt.axis(\"off\")\n",
    "    \n",
    "# Put Romeo flag in row 1 column 2 of 1 x 2 plot array\n",
    "ax = fig.add_subplot(1, 2, 2)\n",
    "    \n",
    "# Plot the romeo flag\n",
    "plt.imshow(romeo)\n",
    "\n",
    "# Turn off axes\n",
    "plt.axis(\"off\")\n",
    "       \n",
    "# Display figure\n",
    "fig.show(warn=False)  # Avoid backend warnings with keyword argument warn=False"
   ]
  },
  {
   "cell_type": "markdown",
   "metadata": {},
   "source": [
    "## Problem 3 (10 points)"
   ]
  },
  {
   "cell_type": "markdown",
   "metadata": {},
   "source": [
    "The code in the cell below attempts to loop through all the keys in `my_dictionary` and print the reciprocal of the value associated with each key.  \n",
    "\n",
    "There are two issues with the code, however.  First, there will be a `ZeroDivisionError` because the value associated with `'KeyZero'` in the dictionary is 0.  Then there will be a `KeyError` because `'Key2'` in the list should actually be `'KeyTwo'`.  \n",
    "\n",
    "Add an appropriate `try`-`except` block to this code so the output looks like this:\n",
    "\n",
    "```\n",
    "I'm sorry, but division by zero is not allowed.\n",
    "1.00\n",
    "I'm sorry, but Key2 is not in the dictionary.\n",
    "0.33\n",
    "```\n",
    "\n",
    "In order to receive full credit, you must include **2** different `except` statements and provide specific error handling for the two different types of exceptions that occur."
   ]
  },
  {
   "cell_type": "code",
   "execution_count": null,
   "metadata": {},
   "outputs": [],
   "source": [
    "my_dictionary = {'KeyZero':0, 'KeyOne':1, 'KeyTwo':2, 'KeyThree':3}\n",
    "my_keys = ['KeyZero', 'KeyOne', 'Key2', 'KeyThree']\n",
    "\n",
    "for key in my_keys:\n",
    "    print(f\"{1 / my_dictionary[key]:.2f}\")"
   ]
  },
  {
   "cell_type": "code",
   "execution_count": 13,
   "metadata": {},
   "outputs": [
    {
     "name": "stdout",
     "output_type": "stream",
     "text": [
      "I'm sorry, but division by zero is not allowed.\n",
      "1.00\n",
      "I'm sorry, but Key2 is not in the dictionary.\n",
      "0.33\n"
     ]
    }
   ],
   "source": [
    "# SOLUTION\n",
    "my_dictionary = {'KeyZero':0, 'KeyOne':1, 'KeyTwo':2, 'KeyThree':3}\n",
    "my_keys = ['KeyZero', 'KeyOne', 'Key2', 'KeyThree']\n",
    "\n",
    "for key in my_keys:\n",
    "    try:\n",
    "        print(f\"{1 / my_dictionary[key]:.2f}\")\n",
    "    except ZeroDivisionError:\n",
    "        print(f\"I'm sorry, but division by zero is not allowed.\")\n",
    "    except KeyError:\n",
    "        print(f\"I'm sorry, but {key} is not in the dictionary.\")"
   ]
  },
  {
   "cell_type": "markdown",
   "metadata": {},
   "source": [
    "## Problem 4 (10 points)"
   ]
  },
  {
   "cell_type": "markdown",
   "metadata": {},
   "source": [
    "Use the graph below to answer this question.\n",
    "\n",
    "<img src=\"img/graph_question_4.png\" alt=\"Drawing\" style=\"width: 400px;\"/>"
   ]
  },
  {
   "cell_type": "markdown",
   "metadata": {},
   "source": [
    "__(a) 3 points.__\n",
    "Define the adjacency matrix for the given graph."
   ]
  },
  {
   "cell_type": "code",
   "execution_count": null,
   "metadata": {},
   "outputs": [],
   "source": []
  },
  {
   "cell_type": "code",
   "execution_count": 15,
   "metadata": {},
   "outputs": [],
   "source": [
    "# SOLUTION\n",
    "import numpy as np\n",
    "\n",
    "# Define adjacency matrix\n",
    "A = np.zeros([7, 7])\n",
    "A[0, [1, 2]] = 1\n",
    "A[1, [0, 2]] = 1\n",
    "A[2, [0, 1, 3, 4, 5]] = 1\n",
    "A[3, [2, 5, 6]] = 1\n",
    "A[4, [2, 5, 6]] = 1\n",
    "A[5, [2, 3, 4, 6]] = 1\n",
    "A[6, [3, 4, 5]] = 1"
   ]
  },
  {
   "cell_type": "markdown",
   "metadata": {},
   "source": [
    "__(b) 1 point.__ Import the `networkx` package and define the graph `G` using your `A` matrix from Part A."
   ]
  },
  {
   "cell_type": "code",
   "execution_count": null,
   "metadata": {},
   "outputs": [],
   "source": []
  },
  {
   "cell_type": "code",
   "execution_count": 16,
   "metadata": {},
   "outputs": [],
   "source": [
    "# SOLUTION\n",
    "import networkx as nx\n",
    "G = nx.Graph(A)"
   ]
  },
  {
   "cell_type": "markdown",
   "metadata": {},
   "source": [
    "__(c) 1 point.__ Draw the graph `G` using the `networkx` method `draw_networkx`."
   ]
  },
  {
   "cell_type": "code",
   "execution_count": null,
   "metadata": {},
   "outputs": [],
   "source": [
    "import matplotlib.pyplot as plt\n",
    "\n",
    "# Write your code below\n"
   ]
  },
  {
   "cell_type": "code",
   "execution_count": 17,
   "metadata": {},
   "outputs": [
    {
     "data": {
      "image/png": "[encoded data removed]",
      "text/plain": [
       "<Figure size 432x288 with 1 Axes>"
      ]
     },
     "metadata": {},
     "output_type": "display_data"
    }
   ],
   "source": [
    "# SOLUTION\n",
    "import matplotlib.pyplot as plt\n",
    "\n",
    "# Write your code below\n",
    "nx.draw_networkx(G, with_labels=True, font_color = 'w')"
   ]
  },
  {
   "cell_type": "markdown",
   "metadata": {},
   "source": [
    "__(d) 5 points.__\n",
    "The code in the cell below creates two lists: `nodes_list`, which is a list of all the nodes in $G$, and `edges_list`, which is a list of all the edges in $G$.  \n",
    "\n",
    "Write code using these lists that prints the edges connected to each of the nodes in $G$. Your output should look like this:\n",
    "\n",
    "```\n",
    "The edges connected to node 0 are: [(0, 1), (0, 2)]\n",
    "The edges connected to node 1 are: [(0, 1), (1, 2)]\n",
    "The edges connected to node 2 are: [(0, 2), (1, 2), (2, 3), (2, 4), (2, 5)]\n",
    "The edges connected to node 3 are: [(2, 3), (3, 5), (3, 6)]\n",
    "The edges connected to node 4 are: [(2, 4), (4, 5), (4, 6)]\n",
    "The edges connected to node 5 are: [(2, 5), (3, 5), (4, 5), (5, 6)]\n",
    "The edges connected to node 6 are: [(3, 6), (4, 6), (5, 6)]\n",
    "```\n",
    "\n",
    "_Hints._\n",
    "\n",
    "- This code\n",
    "    ```python\n",
    "    my_edge = edges_list[0]\n",
    "    print(my_edge)\n",
    "    ```\n",
    "    will produce `(0, 1)`, the first edge in `edges_list`, as output.  \n",
    "    \n",
    "- This code\n",
    "    ```python\n",
    "    print(my_edge[0])\n",
    "    ```\n",
    "    will produce `0`, one of the nodes of `my_edge[0]`, as output.\n",
    "    \n",
    "- This code\n",
    "    ```python\n",
    "    print(my_edge[1])\n",
    "    ```\n",
    "    will produce `1`, the other node of `my_edge[0]`, as output.\n",
    "\n",
    "- You can check if an edge `my_edge` is connected to a node `n` if **either** `my_edge[0] == n` **or** `my_edge[1] == n`.\n",
    "\n",
    "For full credit, your code must use appropriate `for` loop(s), appropriate `if-elif-else` logic, and produce the output above using code (i.e. you can't simply hard code the print statements shown to receive full credit for this part of the question)."
   ]
  },
  {
   "cell_type": "code",
   "execution_count": null,
   "metadata": {},
   "outputs": [],
   "source": [
    "nodes_list = list(G.nodes)\n",
    "edges_list = list(G.edges)\n",
    "\n",
    "# Write your code below\n"
   ]
  },
  {
   "cell_type": "code",
   "execution_count": 21,
   "metadata": {},
   "outputs": [
    {
     "name": "stdout",
     "output_type": "stream",
     "text": [
      "The edges connected to node 0 are: [(0, 1), (0, 2)]\n",
      "The edges connected to node 1 are: [(0, 1), (1, 2)]\n",
      "The edges connected to node 2 are: [(0, 2), (1, 2), (2, 3), (2, 4), (2, 5)]\n",
      "The edges connected to node 3 are: [(2, 3), (3, 5), (3, 6)]\n",
      "The edges connected to node 4 are: [(2, 4), (4, 5), (4, 6)]\n",
      "The edges connected to node 5 are: [(2, 5), (3, 5), (4, 5), (5, 6)]\n",
      "The edges connected to node 6 are: [(3, 6), (4, 6), (5, 6)]\n",
      "\n",
      "The edges connected to node 0 are: [(0, 1), (0, 2)]\n",
      "The edges connected to node 1 are: [(0, 1), (1, 2)]\n",
      "The edges connected to node 2 are: [(0, 2), (1, 2), (2, 3), (2, 4), (2, 5)]\n",
      "The edges connected to node 3 are: [(2, 3), (3, 5), (3, 6)]\n",
      "The edges connected to node 4 are: [(2, 4), (4, 5), (4, 6)]\n",
      "The edges connected to node 5 are: [(2, 5), (3, 5), (4, 5), (5, 6)]\n",
      "The edges connected to node 6 are: [(3, 6), (4, 6), (5, 6)]\n"
     ]
    }
   ],
   "source": [
    "# SOLUTION\n",
    "nodes_list = list(G.nodes)\n",
    "edges_list = list(G.edges)\n",
    "\n",
    "# Write your code below\n",
    "for n in nodes_list:\n",
    "    my_edge_list = []\n",
    "    for my_edge in edges_list:\n",
    "        if my_edge[0] == n or my_edge[1] == n:\n",
    "            my_edge_list.append(my_edge)\n",
    "    print(f\"The edges connected to node {n} are: {my_edge_list}\")\n",
    "    \n",
    "# Alternate solution\n",
    "print('')  # Blank line\n",
    "for n in nodes_list:\n",
    "    my_edge_list = []\n",
    "    for my_edge in edges_list:\n",
    "        if n in my_edge:\n",
    "            my_edge_list.append(my_edge)\n",
    "    print(f\"The edges connected to node {n} are: {my_edge_list}\")"
   ]
  },
  {
   "cell_type": "markdown",
   "metadata": {},
   "source": [
    "## Problem 5 (10 points)"
   ]
  },
  {
   "cell_type": "markdown",
   "metadata": {},
   "source": [
    "In the same folder as this notebook, there is an Excel file `XFL.xlsx` that contains data for the top 12 rushers in the XFL through Week 5 of the 2020 season on a sheet named **Sheet1**.  \n",
    "\n",
    "<!--Download this file and put it in a folder on your computer called C:\\Output.-->\n",
    "\n",
    "The columns in **Sheet1** contain the following information:\n",
    "\n",
    "| Column heading | Column contents |\n",
    "|:---------------|:----------------|\n",
    "| Player         | Player Name |\n",
    "| Position       | Abbreviation for that player's position |\n",
    "| Team           | Abbreviation for that player's team |\n",
    "| Attempts       | Total number of rushing attempts for that player |\n",
    "| Yards          | Total yards gained by that player |"
   ]
  },
  {
   "cell_type": "markdown",
   "metadata": {},
   "source": [
    "__(a) 4 points.__ Replace **only** the `...` in the code below to import the data necessary to answer all parts of this problem"
   ]
  },
  {
   "cell_type": "code",
   "execution_count": null,
   "metadata": {},
   "outputs": [],
   "source": [
    "import xlwings as xw\n",
    "\n",
    "# Load data workbook\n",
    "wb = xw.Book('XFL.xlsx')\n",
    "\n",
    "# Create a variable pointing to the sheet that contains the data\n",
    "s_data = wb.sheets[...]\n",
    "\n",
    "# Specify the total number of players\n",
    "num_players = 12\n",
    "\n",
    "# Create a dictionary to store the player data\n",
    "player_data = {}      \n",
    "for i in range(...):\n",
    "    player = s_data.range(...).value\n",
    "    position = s_data.range(...).value\n",
    "    team = s_data.range(...).value\n",
    "    attempts = s_data.range(...).value\n",
    "    yards = s_data.range(...).value\n",
    "    player_data[player] = {'Position':player, 'Position':position, 'Team':team, 'Attempts':attempts, 'Yards':yards}"
   ]
  },
  {
   "cell_type": "code",
   "execution_count": 22,
   "metadata": {},
   "outputs": [],
   "source": [
    "# SOLUTION\n",
    "import xlwings as xw\n",
    "\n",
    "# Load data workbook\n",
    "wb = xw.Book('XFL.xlsx')\n",
    "\n",
    "# Create a variable pointing to the sheet that contains the data\n",
    "s_data = wb.sheets['Sheet1']\n",
    "\n",
    "# Specify the total number of players\n",
    "num_players = 12\n",
    "\n",
    "# Create a dictionary to store the player data\n",
    "player_data = {}      \n",
    "for i in range(1, num_players + 1):\n",
    "    player = s_data.range(f'A{i + 1}').value\n",
    "    position = s_data.range(f'B{i + 1}').value\n",
    "    team = s_data.range(f'C{i + 1}').value\n",
    "    attempts = s_data.range(f'D{i + 1}').value\n",
    "    yards = s_data.range(f'E{i + 1}').value\n",
    "    player_data[player] = {'Position':player, 'Position':position, 'Team':team, 'Attempts':attempts, 'Yards':yards}"
   ]
  },
  {
   "cell_type": "markdown",
   "metadata": {},
   "source": [
    "__(b) 2 points.__\n",
    "Using Python, compute the Yards Per Attempt (YPA) for each player. YPA is given by\n",
    "\n",
    "\\begin{equation*}\n",
    "    \\rm{YPA} = \\frac{\\rm{Yards}}{\\rm{Attempts}},\n",
    "\\end{equation*}\n",
    "\n",
    "where $\\text{Yards}$ is the total number of yards gained by that player and $\\text{Attempts}$ is the total number of rushing attempts for that player.  Use a `for` loop and the `.items()` dictionary method to consider players one at a time.  For each player, add a key-value pair to his dictionary to store his YPA value."
   ]
  },
  {
   "cell_type": "code",
   "execution_count": null,
   "metadata": {},
   "outputs": [],
   "source": []
  },
  {
   "cell_type": "code",
   "execution_count": 23,
   "metadata": {},
   "outputs": [],
   "source": [
    "# SOLUTION\n",
    "# Compute the YPA for each player and add to dictionary\n",
    "for player, player_dict in player_data.items():\n",
    "    ypa = player_dict['Yards'] / player_dict['Attempts']\n",
    "    player_dict['YPA'] = ypa"
   ]
  },
  {
   "cell_type": "markdown",
   "metadata": {},
   "source": [
    "__(c) 2 points.__\n",
    "Using a `for` loop and the `.items()` dictionary method, identify the player that has the highest YPA and this highest value.\n",
    "Print this information using an f-string to display 3 decimal places of accuracy for this highest YPA.\n",
    "\n",
    "Similarly, using a `for` loop and the `.items()` dictionary method, identify the player with the lowest YPA and this lowest value.  Print this information using an f-string to display 3 decimal places of accuracy for this lowest YPA."
   ]
  },
  {
   "cell_type": "code",
   "execution_count": null,
   "metadata": {},
   "outputs": [],
   "source": []
  },
  {
   "cell_type": "code",
   "execution_count": 24,
   "metadata": {},
   "outputs": [
    {
     "name": "stdout",
     "output_type": "stream",
     "text": [
      "Jordan Ta'amu has the highest YPA, 5.293.\n",
      "Christine Michael has the lowest YPA, 3.017.\n"
     ]
    }
   ],
   "source": [
    "# SOLUTION\n",
    "# Initialize variables for highest YPA and corresponding player\n",
    "max_ypa = -float('inf')\n",
    "max_ypa_player = \"\" \n",
    "\n",
    "# Identify highest YPA and corresponding player\n",
    "for player, player_dict in player_data.items():\n",
    "    if max_ypa < player_dict['YPA']:\n",
    "        max_ypa = player_dict['YPA']\n",
    "        max_ypa_player = player\n",
    "\n",
    "print(f\"{max_ypa_player} has the highest YPA, {max_ypa:.3f}.\")\n",
    "\n",
    "# Initialize variables for lowest YPA and corresponding player\n",
    "min_ypa = float('inf')\n",
    "min_ypa_player = \"\" \n",
    "\n",
    "# Identify lowest YPA and corresponding player\n",
    "for player, player_dict in player_data.items():\n",
    "    if min_ypa > player_dict['YPA']:\n",
    "        min_ypa = player_dict['YPA']\n",
    "        min_ypa_player = player\n",
    "\n",
    "print(f\"{min_ypa_player} has the lowest YPA, {min_ypa:.3f}.\")"
   ]
  },
  {
   "cell_type": "markdown",
   "metadata": {},
   "source": [
    "__(d) 2 points.__\n",
    "Use appropriate `for` loop(s) to write the correct YPA for each player back to the Excel file.  Your answers should be written to the sheet labeled **Sheet1**.  The column heading **YPA** should go in cell F1. The appropriate YPA values should be in column F starting with cell F2.  \n",
    "\n",
    "To receive full credit for this problem, you **must** write the YPA values back to the appropriate locations using a **`for` loop**."
   ]
  },
  {
   "cell_type": "code",
   "execution_count": null,
   "metadata": {},
   "outputs": [],
   "source": []
  },
  {
   "cell_type": "code",
   "execution_count": 25,
   "metadata": {},
   "outputs": [],
   "source": [
    "# SOLUTION\n",
    "# Set the location for the output data in the Excel spreadsheet\n",
    "s_output = wb.sheets['Sheet1']\n",
    "\n",
    "# Write the column header to the worksheet in Excel\n",
    "s_output.range('F1').value = 'YPA'\n",
    "\n",
    "# Output player names and YPA values to worksheet in Excel\n",
    "\n",
    "# This is \"good enough\" to get the job done, but doesn't really check to see if the \n",
    "# player name in column A matches the YPA information going in column F\n",
    "i = 1\n",
    "for player_dict in player_data.values():\n",
    "    s_output.range(f'F{i+1}').value = player_dict['YPA']\n",
    "    i += 1\n",
    "\n",
    "# This is a \"better\" way to write the information back to the spreadsheet in the\n",
    "# sense that it uses the player name in column A to find the appropriate value\n",
    "# of YPA to write to column F (or in this case column G so I didn't write over \n",
    "# the other values)\n",
    "s_output.range('G1').value = 'YPA'\n",
    "\n",
    "for i in range(1, num_players+1):\n",
    "    my_player = s_output.range(f'A{i+1}').value\n",
    "    s_output.range(f'G{i+1}').value = player_data[my_player]['YPA']"
   ]
  },
  {
   "cell_type": "markdown",
   "metadata": {},
   "source": [
    "---"
   ]
  },
  {
   "cell_type": "markdown",
   "metadata": {
    "hide_cell": true
   },
   "source": [
    "## When you're finished"
   ]
  },
  {
   "cell_type": "markdown",
   "metadata": {
    "hide_cell": true
   },
   "source": [
    "* Select **Cell &#8594; Run All**  to run all the cells from top to bottom. Make sure your notebook runs as you expect before submitting it.\n",
    "\n",
    "* Submit this file using the SM286D Assignment Submission Form linked on the [class website](https://www.usna.edu/Users/math/uhan/sm286d/)."
   ]
  }
 ],
 "metadata": {
  "kernelspec": {
   "display_name": "Python 3",
   "language": "python",
   "name": "python3"
  },
  "language_info": {
   "codemirror_mode": {
    "name": "ipython",
    "version": 3
   },
   "file_extension": ".py",
   "mimetype": "text/x-python",
   "name": "python",
   "nbconvert_exporter": "python",
   "pygments_lexer": "ipython3",
   "version": "3.7.6"
  }
 },
 "nbformat": 4,
 "nbformat_minor": 2
}
